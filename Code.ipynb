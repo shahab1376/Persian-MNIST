{
 "cells": [
  {
   "cell_type": "code",
   "execution_count": 2,
   "metadata": {},
   "outputs": [],
   "source": [
    "import numpy as np\n",
    "import pandas as pd\n",
    "import matplotlib.pyplot as plt\n",
    "import os\n",
    "import glob\n",
    "import cv2\n",
    "cwd = os.getcwd()\n",
    "os.chdir(\"C:/Users/toranj/Desktop/Persian Mnist\")"
   ]
  },
  {
   "cell_type": "code",
   "execution_count": 11,
   "metadata": {},
   "outputs": [],
   "source": [
    "Seperate(\"one\",\"New Folder\")"
   ]
  },
  {
   "cell_type": "code",
   "execution_count": 10,
   "metadata": {},
   "outputs": [],
   "source": [
    "def Seperate(loadfile,savefolder):   \n",
    "    img = cv2.imread(loadfile + \".jpg\",0)\n",
    "    img = 255 - img\n",
    "    ydone = False\n",
    "    start_ypoints_crop = []\n",
    "    end_ypoints_crop = []\n",
    "    for row in range(len(img)):\n",
    "        if any([ind < 200 for ind in iter(img[row])]) and not ydone:\n",
    "            start_ypoints_crop.append(row)\n",
    "            ydone = True\n",
    "        if all([ind > 200 for ind in iter(img[row])]) and ydone:\n",
    "            end_ypoints_crop.append(row)\n",
    "            ydone = False\n",
    "\n",
    "    CroppedImages= []\n",
    "    for top,bot in zip(start_ypoints_crop,end_ypoints_crop):\n",
    "        CroppedImages.append(img[top:bot,...])\n",
    "\n",
    "    xdone = False\n",
    "    start_xpoints_crop = []\n",
    "    end_xpoints_crop = []\n",
    "    for k in range(len(CroppedImages)):\n",
    "        start_xpoints_crop.append([])\n",
    "        end_xpoints_crop.append([])\n",
    "    for i in range(len(CroppedImages)):\n",
    "        for col in range(len(CroppedImages[0][0])):\n",
    "            if any([ind < 200 for ind in iter(CroppedImages[i][...,col])]) and not xdone:\n",
    "                start_xpoints_crop [i].append(col)\n",
    "                xdone = True\n",
    "            if all([ind > 200 for ind in iter(CroppedImages[i][...,col])]) and xdone:\n",
    "                end_xpoints_crop [i].append(col)\n",
    "                xdone = False\n",
    "\n",
    "    Numbers=[]\n",
    "    for i in range(len(CroppedImages)):\n",
    "        for left,right in zip(start_xpoints_crop[i],end_xpoints_crop[i]):\n",
    "            Numbers.append(CroppedImages[i][...,left-2:right+2])\n",
    "\n",
    "    for i in range(len(Numbers)):\n",
    "        cv2.copyMakeBorder(Numbers[i],4,4,10,10,cv2.BORDER_CONSTANT,value=255)\n",
    "        cv2.imwrite(f'Images/{savefolder}/{i}.png',Numbers[i])"
   ]
  },
  {
   "cell_type": "code",
   "execution_count": 5,
   "metadata": {},
   "outputs": [],
   "source": [
    "def Show(image):\n",
    "    cv2.namedWindow('image', cv2.WINDOW_NORMAL)\n",
    "    cv2.imshow('image',image)\n",
    "    cv2.waitKey(0)\n",
    "    cv2.destroyAllWindows()\n"
   ]
  },
  {
   "cell_type": "code",
   "execution_count": 3,
   "metadata": {},
   "outputs": [
    {
     "ename": "TypeError",
     "evalue": "unsupported operand type(s) for -: 'int' and 'NoneType'",
     "output_type": "error",
     "traceback": [
      "\u001b[1;31m---------------------------------------------------------------------------\u001b[0m",
      "\u001b[1;31mTypeError\u001b[0m                                 Traceback (most recent call last)",
      "\u001b[1;32m<ipython-input-3-0f75f9873953>\u001b[0m in \u001b[0;36m<module>\u001b[1;34m()\u001b[0m\n\u001b[1;32m----> 1\u001b[1;33m \u001b[0mSeperate\u001b[0m\u001b[1;33m(\u001b[0m\u001b[1;34m\"plate\"\u001b[0m\u001b[1;33m,\u001b[0m\u001b[1;34m\"Test Char\"\u001b[0m\u001b[1;33m)\u001b[0m\u001b[1;33m\u001b[0m\u001b[1;33m\u001b[0m\u001b[0m\n\u001b[0m",
      "\u001b[1;32m<ipython-input-2-ca7350109f22>\u001b[0m in \u001b[0;36mSeperate\u001b[1;34m(loadfile, savefolder)\u001b[0m\n\u001b[0;32m      1\u001b[0m \u001b[1;32mdef\u001b[0m \u001b[0mSeperate\u001b[0m\u001b[1;33m(\u001b[0m\u001b[0mloadfile\u001b[0m\u001b[1;33m,\u001b[0m\u001b[0msavefolder\u001b[0m\u001b[1;33m)\u001b[0m\u001b[1;33m:\u001b[0m\u001b[1;33m\u001b[0m\u001b[1;33m\u001b[0m\u001b[0m\n\u001b[0;32m      2\u001b[0m     \u001b[0mimg\u001b[0m \u001b[1;33m=\u001b[0m \u001b[0mcv2\u001b[0m\u001b[1;33m.\u001b[0m\u001b[0mimread\u001b[0m\u001b[1;33m(\u001b[0m\u001b[0mloadfile\u001b[0m \u001b[1;33m+\u001b[0m \u001b[1;34m\".jpg\"\u001b[0m\u001b[1;33m,\u001b[0m\u001b[1;36m0\u001b[0m\u001b[1;33m)\u001b[0m\u001b[1;33m\u001b[0m\u001b[1;33m\u001b[0m\u001b[0m\n\u001b[1;32m----> 3\u001b[1;33m     \u001b[0mimg\u001b[0m \u001b[1;33m=\u001b[0m \u001b[1;36m255\u001b[0m \u001b[1;33m-\u001b[0m \u001b[0mimg\u001b[0m\u001b[1;33m\u001b[0m\u001b[1;33m\u001b[0m\u001b[0m\n\u001b[0m\u001b[0;32m      4\u001b[0m     \u001b[0mydone\u001b[0m \u001b[1;33m=\u001b[0m \u001b[1;32mFalse\u001b[0m\u001b[1;33m\u001b[0m\u001b[1;33m\u001b[0m\u001b[0m\n\u001b[0;32m      5\u001b[0m     \u001b[0mstart_ypoints_crop\u001b[0m \u001b[1;33m=\u001b[0m \u001b[1;33m[\u001b[0m\u001b[1;33m]\u001b[0m\u001b[1;33m\u001b[0m\u001b[1;33m\u001b[0m\u001b[0m\n",
      "\u001b[1;31mTypeError\u001b[0m: unsupported operand type(s) for -: 'int' and 'NoneType'"
     ]
    }
   ],
   "source": [
    "Seperate(\"plate\",\"Test Char\")"
   ]
  },
  {
   "cell_type": "code",
   "execution_count": 6,
   "metadata": {},
   "outputs": [
    {
     "name": "stdout",
     "output_type": "stream",
     "text": [
      "None\n"
     ]
    }
   ],
   "source": [
    "img = cv2.imread(\"plate.jpg\",0)\n",
    "print(img)"
   ]
  },
  {
   "cell_type": "code",
   "execution_count": 3,
   "metadata": {},
   "outputs": [],
   "source": [
    "folders = ['Zeros','Ones','Twos','Threes','Fours','Fives','Sixes','Sevens','Eights','Nines']\n",
    "final_images = []\n",
    "for n in range(len(folders)):   \n",
    "    for file in glob.glob(f\"C:/Users/toranj/Desktop/Persian Mnist/Images/{folders[n]}/*.jpg\"):\n",
    "        image = cv2.imread(file,0)\n",
    "        image = cv2.copyMakeBorder(image,2,2,10,10,cv2.BORDER_CONSTANT,value=255)\n",
    "        image = cv2.resize(image,(28,28))                \n",
    "        image = image / np.max(image)\n",
    "        final_images.append(image)"
   ]
  },
  {
   "cell_type": "code",
   "execution_count": 4,
   "metadata": {},
   "outputs": [
    {
     "name": "stderr",
     "output_type": "stream",
     "text": [
      "E:\\Software\\Anaconda\\lib\\site-packages\\h5py\\__init__.py:36: FutureWarning: Conversion of the second argument of issubdtype from `float` to `np.floating` is deprecated. In future, it will be treated as `np.float64 == np.dtype(float).type`.\n",
      "  from ._conv import register_converters as _register_converters\n",
      "Using TensorFlow backend.\n"
     ]
    }
   ],
   "source": [
    "from keras.utils import to_categorical\n",
    "folders = ['Zeros','Ones','Twos','Threes','Fours','Fives','Sixes','Sevens','Eights','Nines']\n",
    "labels = []\n",
    "final_labels = []\n",
    "for n in range(len(folders)):   \n",
    "    for file in glob.glob(f\"C:/Users/toranj/Desktop/Persian Mnist/Images/{folders[n]}/*.jpg\"):\n",
    "        labels.append(n)\n",
    "final_labels = to_categorical(labels,num_classes = 10)\n"
   ]
  },
  {
   "cell_type": "code",
   "execution_count": 16,
   "metadata": {},
   "outputs": [
    {
     "data": {
      "text/plain": [
       "array([[1., 0., 0., ..., 0., 0., 0.],\n",
       "       [1., 0., 0., ..., 0., 0., 0.],\n",
       "       [1., 0., 0., ..., 0., 0., 0.],\n",
       "       ...,\n",
       "       [0., 0., 0., ..., 0., 0., 1.],\n",
       "       [0., 0., 0., ..., 0., 0., 1.],\n",
       "       [0., 0., 0., ..., 0., 0., 1.]], dtype=float32)"
      ]
     },
     "execution_count": 16,
     "metadata": {},
     "output_type": "execute_result"
    }
   ],
   "source": [
    "final_labels"
   ]
  },
  {
   "cell_type": "code",
   "execution_count": 5,
   "metadata": {},
   "outputs": [],
   "source": [
    "from sklearn.model_selection import train_test_split\n",
    "img_train, img_test, lbl_train, lbl_test = train_test_split(final_images, final_labels,\n",
    "                                                            test_size=0.2, random_state=42, stratify=final_labels)"
   ]
  },
  {
   "cell_type": "code",
   "execution_count": 6,
   "metadata": {},
   "outputs": [
    {
     "name": "stdout",
     "output_type": "stream",
     "text": [
      "WARNING:tensorflow:From E:\\Software\\Anaconda\\lib\\site-packages\\tensorflow\\python\\framework\\op_def_library.py:263: colocate_with (from tensorflow.python.framework.ops) is deprecated and will be removed in a future version.\n",
      "Instructions for updating:\n",
      "Colocations handled automatically by placer.\n",
      "WARNING:tensorflow:From E:\\Software\\Anaconda\\lib\\site-packages\\keras\\backend\\tensorflow_backend.py:3445: calling dropout (from tensorflow.python.ops.nn_ops) with keep_prob is deprecated and will be removed in a future version.\n",
      "Instructions for updating:\n",
      "Please use `rate` instead of `keep_prob`. Rate should be set to `rate = 1 - keep_prob`.\n",
      "_________________________________________________________________\n",
      "Layer (type)                 Output Shape              Param #   \n",
      "=================================================================\n",
      "conv2d_1 (Conv2D)            (None, 28, 28, 20)        520       \n",
      "_________________________________________________________________\n",
      "max_pooling2d_1 (MaxPooling2 (None, 14, 14, 20)        0         \n",
      "_________________________________________________________________\n",
      "conv2d_2 (Conv2D)            (None, 14, 14, 20)        10020     \n",
      "_________________________________________________________________\n",
      "max_pooling2d_2 (MaxPooling2 (None, 7, 7, 20)          0         \n",
      "_________________________________________________________________\n",
      "flatten_1 (Flatten)          (None, 980)               0         \n",
      "_________________________________________________________________\n",
      "dropout_1 (Dropout)          (None, 980)               0         \n",
      "_________________________________________________________________\n",
      "dense_1 (Dense)              (None, 64)                62784     \n",
      "_________________________________________________________________\n",
      "dense_2 (Dense)              (None, 10)                650       \n",
      "=================================================================\n",
      "Total params: 73,974\n",
      "Trainable params: 73,974\n",
      "Non-trainable params: 0\n",
      "_________________________________________________________________\n"
     ]
    }
   ],
   "source": [
    "import keras\n",
    "from keras.models import Sequential\n",
    "from keras.layers import Conv2D\n",
    "from keras.layers import MaxPooling2D\n",
    "from keras.layers import Flatten\n",
    "from keras.layers import Dense\n",
    "from keras.layers import Dropout\n",
    "\n",
    "CNT_Model = Sequential()\n",
    "\n",
    "\n",
    "CNT_Model.add(Conv2D(20,5, activation = 'relu', padding = 'same',kernel_regularizer = None, input_shape =(28,28,1)))\n",
    "CNT_Model.add(MaxPooling2D(pool_size = (2,2)))\n",
    "CNT_Model.add(Conv2D(20,5, activation = 'relu', padding = 'same', kernel_regularizer = None))\n",
    "CNT_Model.add(MaxPooling2D(pool_size = (2,2)))\n",
    "#CNT_Model.add(Dropout(0.5))\n",
    "CNT_Model.add(Flatten())\n",
    "CNT_Model.add(Dropout(0.5))\n",
    "#CNT_Model.add(BatchNormalization())\n",
    "CNT_Model.add(Dense(64,activation = 'relu', kernel_regularizer = None))\n",
    "#CNT_Model.add(BatchNormalization())\n",
    "CNT_Model.add(Dense(10,activation='sigmoid'))\n",
    "\n",
    "Optimizer = keras.optimizers.SGD(lr=0.01, momentum = 0.5, decay = 1e-5, nesterov = True)\n",
    "\n",
    "CNT_Model.compile(optimizer=Optimizer,\n",
    "              loss='categorical_crossentropy',\n",
    "              metrics=['accuracy'])\n",
    "CNT_Model.summary()"
   ]
  },
  {
   "cell_type": "code",
   "execution_count": 7,
   "metadata": {},
   "outputs": [
    {
     "name": "stdout",
     "output_type": "stream",
     "text": [
      "WARNING:tensorflow:From E:\\Software\\Anaconda\\lib\\site-packages\\tensorflow\\python\\ops\\math_ops.py:3066: to_int32 (from tensorflow.python.ops.math_ops) is deprecated and will be removed in a future version.\n",
      "Instructions for updating:\n",
      "Use tf.cast instead.\n",
      "Train on 9828 samples, validate on 1093 samples\n",
      "Epoch 1/2\n",
      "9828/9828 [==============================] - 8s 771us/step - loss: 1.1698 - acc: 0.5786 - val_loss: 0.1869 - val_acc: 0.9149\n",
      "Epoch 2/2\n",
      "9828/9828 [==============================] - 4s 369us/step - loss: 0.1357 - acc: 0.9571 - val_loss: 0.0230 - val_acc: 0.9954\n"
     ]
    }
   ],
   "source": [
    "img_train = np.reshape(img_train,(len(img_train),28,28,1))\n",
    "\n",
    "from keras.callbacks import ModelCheckpoint\n",
    "ann_hist = CNT_Model.fit(np.array(img_train), np.array(lbl_train), validation_split = 0.1, batch_size = 10, epochs = 2)\n",
    "\n"
   ]
  },
  {
   "cell_type": "code",
   "execution_count": 8,
   "metadata": {},
   "outputs": [
    {
     "name": "stdout",
     "output_type": "stream",
     "text": [
      "2731/2731 [==============================] - 1s 457us/step\n",
      "Test loss is 0.015586355828267501\n",
      "Test accuracy is 0.99853533512941\n"
     ]
    }
   ],
   "source": [
    "img_test = np.reshape(img_test,(len(img_test),28,28,1))\n",
    "\n",
    "test_loss, test_acc = CNT_Model.evaluate(np.array(img_test), np.array(lbl_test), batch_size = 3)\n",
    "CNT_Model.save('Model1.h5')\n",
    "labels_predicted = CNT_Model.predict(np.array(img_test))\n",
    "lbl= np.argmax(labels_predicted, axis=1)\n",
    "print('Test loss is',test_loss)\n",
    "print('Test accuracy is',test_acc)"
   ]
  },
  {
   "cell_type": "code",
   "execution_count": 12,
   "metadata": {},
   "outputs": [
    {
     "name": "stderr",
     "output_type": "stream",
     "text": [
      "E:\\Software\\Anaconda\\lib\\site-packages\\h5py\\__init__.py:36: FutureWarning: Conversion of the second argument of issubdtype from `float` to `np.floating` is deprecated. In future, it will be treated as `np.float64 == np.dtype(float).type`.\n",
      "  from ._conv import register_converters as _register_converters\n",
      "Using TensorFlow backend.\n"
     ]
    }
   ],
   "source": []
  },
  {
   "cell_type": "code",
   "execution_count": 26,
   "metadata": {},
   "outputs": [
    {
     "data": {
      "text/plain": [
       "0"
      ]
     },
     "execution_count": 26,
     "metadata": {},
     "output_type": "execute_result"
    }
   ],
   "source": [
    "lbl[1]\n"
   ]
  },
  {
   "cell_type": "code",
   "execution_count": null,
   "metadata": {},
   "outputs": [],
   "source": []
  }
 ],
 "metadata": {
  "kernelspec": {
   "display_name": "Python 3",
   "language": "python",
   "name": "python3"
  },
  "language_info": {
   "codemirror_mode": {
    "name": "ipython",
    "version": 3
   },
   "file_extension": ".py",
   "mimetype": "text/x-python",
   "name": "python",
   "nbconvert_exporter": "python",
   "pygments_lexer": "ipython3",
   "version": "3.6.8"
  }
 },
 "nbformat": 4,
 "nbformat_minor": 2
}
