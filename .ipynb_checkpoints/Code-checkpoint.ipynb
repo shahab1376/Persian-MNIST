{
 "cells": [
  {
   "cell_type": "code",
   "execution_count": 1,
   "metadata": {},
   "outputs": [],
   "source": [
    "import numpy as np\n",
    "import pandas as pd\n",
    "import matplotlib.pyplot as plt\n",
    "import os\n",
    "import glob\n",
    "import cv2\n",
    "cwd = os.getcwd()\n",
    "os.chdir(\"C:/Users/toranj/Desktop/Persian Mnist\")"
   ]
  },
  {
   "cell_type": "code",
   "execution_count": 58,
   "metadata": {},
   "outputs": [],
   "source": [
    "Seperate(\"seven\",\"Sevens\")"
   ]
  },
  {
   "cell_type": "code",
   "execution_count": 53,
   "metadata": {},
   "outputs": [],
   "source": [
    "def Seperate(loadfile,savefolder):   \n",
    "    img = cv2.imread(loadfile + \".jpg\",0)\n",
    "    ydone = False\n",
    "    start_ypoints_crop = []\n",
    "    end_ypoints_crop = []\n",
    "    for row in range(len(img)):\n",
    "        if any([ind < 200 for ind in iter(img[row])]) and not ydone:\n",
    "            start_ypoints_crop.append(row)\n",
    "            ydone = True\n",
    "        if all([ind > 200 for ind in iter(img[row])]) and ydone:\n",
    "            end_ypoints_crop.append(row)\n",
    "            ydone = False\n",
    "\n",
    "    CroppedImages= []\n",
    "    for top,bot in zip(start_ypoints_crop,end_ypoints_crop):\n",
    "        CroppedImages.append(img[top:bot,...])\n",
    "\n",
    "    xdone = False\n",
    "    start_xpoints_crop = []\n",
    "    end_xpoints_crop = []\n",
    "    for k in range(len(CroppedImages)):\n",
    "        start_xpoints_crop.append([])\n",
    "        end_xpoints_crop.append([])\n",
    "    for i in range(len(CroppedImages)):\n",
    "        for col in range(len(CroppedImages[0][0])):\n",
    "            if any([ind < 200 for ind in iter(CroppedImages[i][...,col])]) and not xdone:\n",
    "                start_xpoints_crop [i].append(col)\n",
    "                xdone = True\n",
    "            if all([ind > 200 for ind in iter(CroppedImages[i][...,col])]) and xdone:\n",
    "                end_xpoints_crop [i].append(col)\n",
    "                xdone = False\n",
    "\n",
    "    Numbers=[]\n",
    "    for i in range(len(CroppedImages)):\n",
    "        for left,right in zip(start_xpoints_crop[i],end_xpoints_crop[i]):\n",
    "            Numbers.append(CroppedImages[i][...,left-2:right+2])\n",
    "\n",
    "    for i in range(len(Numbers)):\n",
    "        cv2.copyMakeBorder(Numbers[i],4,4,10,10,cv2.BORDER_CONSTANT,value=255)\n",
    "        cv2.imwrite(f'Images/{savefolder}/{i}.jpg',Numbers[i])"
   ]
  },
  {
   "cell_type": "code",
   "execution_count": 2,
   "metadata": {},
   "outputs": [],
   "source": [
    "def Show(image):\n",
    "    cv2.namedWindow('image', cv2.WINDOW_NORMAL)\n",
    "    cv2.imshow('image',image)\n",
    "    cv2.waitKey(0)\n",
    "    cv2.destroyAllWindows()\n"
   ]
  },
  {
   "cell_type": "code",
   "execution_count": 2,
   "metadata": {},
   "outputs": [],
   "source": [
    "#Load Dataset\n",
    "\n",
    "path  = \"C:/Users/toranj/Desktop/Persian Mnist/Images/Ones\"\n",
    "images = glob.glob(path +\"*.jpg\")\n",
    "images.sort()                                                                # sorting images\n",
    "final_images=[] \n",
    "for img in images:    \n",
    "    image = cv2.imread(img,0)                   # loading images\n",
    "    cv2.copyMakeBorder(image,5,5,40,40,cv2.BORDER_CONSTANT,value=255)\n",
    "    image = cv2.resize(image,(28,28))                # Resizing images\n",
    "    image = image / np.max(image)                      # Normalization\n",
    "    image = image.tolist()\n",
    "    final_images.append(image)\n"
   ]
  },
  {
   "cell_type": "code",
   "execution_count": 3,
   "metadata": {},
   "outputs": [],
   "source": [
    "folders = ['Ones','Twos','Threes','Fours','Fives','Sixes','Sevens','Eights','Nines','Zeros']\n",
    "final_images = [[] for i in range(len(folders))]\n",
    "for n in range(len(folders)):   \n",
    "    for file in glob.glob(f\"C:/Users/toranj/Desktop/Persian Mnist/Images/{folders[n]}/*.jpg\"):\n",
    "        image = cv2.imread(file,0)\n",
    "        cv2.copyMakeBorder(image,10,10,90,90,cv2.BORDER_CONSTANT,value=255)\n",
    "        image = cv2.resize(image,(28,28))                \n",
    "        #image = image / np.max(image)\n",
    "        final_images[n].append(image)"
   ]
  },
  {
   "cell_type": "code",
   "execution_count": 38,
   "metadata": {},
   "outputs": [
    {
     "data": {
      "text/plain": [
       "(28, 28)"
      ]
     },
     "execution_count": 38,
     "metadata": {},
     "output_type": "execute_result"
    }
   ],
   "source": [
    "np.shape(final_images[0][0])"
   ]
  },
  {
   "cell_type": "code",
   "execution_count": 5,
   "metadata": {},
   "outputs": [],
   "source": [
    "Show(final_images[5][0])"
   ]
  },
  {
   "cell_type": "code",
   "execution_count": 13,
   "metadata": {},
   "outputs": [
    {
     "ename": "error",
     "evalue": "OpenCV(3.4.2) C:\\projects\\opencv-python\\opencv\\modules\\highgui\\src\\window.cpp:356: error: (-215:Assertion failed) size.width>0 && size.height>0 in function 'cv::imshow'\n",
     "output_type": "error",
     "traceback": [
      "\u001b[1;31m---------------------------------------------------------------------------\u001b[0m",
      "\u001b[1;31merror\u001b[0m                                     Traceback (most recent call last)",
      "\u001b[1;32m<ipython-input-13-84192e46f8ee>\u001b[0m in \u001b[0;36m<module>\u001b[1;34m()\u001b[0m\n\u001b[0;32m      2\u001b[0m \u001b[0mimg2\u001b[0m \u001b[1;33m=\u001b[0m \u001b[0mcv2\u001b[0m\u001b[1;33m.\u001b[0m\u001b[0mcopyMakeBorder\u001b[0m\u001b[1;33m(\u001b[0m\u001b[0mimage\u001b[0m\u001b[1;33m,\u001b[0m\u001b[1;36m10\u001b[0m\u001b[1;33m,\u001b[0m\u001b[1;36m10\u001b[0m\u001b[1;33m,\u001b[0m\u001b[1;36m90\u001b[0m\u001b[1;33m,\u001b[0m\u001b[1;36m90\u001b[0m\u001b[1;33m,\u001b[0m\u001b[0mcv2\u001b[0m\u001b[1;33m.\u001b[0m\u001b[0mBORDER_CONSTANT\u001b[0m\u001b[1;33m,\u001b[0m\u001b[0mvalue\u001b[0m\u001b[1;33m=\u001b[0m\u001b[1;36m255\u001b[0m\u001b[1;33m)\u001b[0m\u001b[1;33m\u001b[0m\u001b[1;33m\u001b[0m\u001b[0m\n\u001b[0;32m      3\u001b[0m \u001b[0mcv2\u001b[0m\u001b[1;33m.\u001b[0m\u001b[0mresize\u001b[0m\u001b[1;33m(\u001b[0m\u001b[0mimg2\u001b[0m\u001b[1;33m,\u001b[0m\u001b[1;33m(\u001b[0m\u001b[1;36m28\u001b[0m\u001b[1;33m,\u001b[0m\u001b[1;36m28\u001b[0m\u001b[1;33m)\u001b[0m\u001b[1;33m)\u001b[0m\u001b[1;33m\u001b[0m\u001b[1;33m\u001b[0m\u001b[0m\n\u001b[1;32m----> 4\u001b[1;33m \u001b[0mShow\u001b[0m\u001b[1;33m(\u001b[0m\u001b[0mimg\u001b[0m\u001b[1;33m)\u001b[0m\u001b[1;33m\u001b[0m\u001b[1;33m\u001b[0m\u001b[0m\n\u001b[0m",
      "\u001b[1;32m<ipython-input-2-7008f92ce6ed>\u001b[0m in \u001b[0;36mShow\u001b[1;34m(image)\u001b[0m\n\u001b[0;32m      1\u001b[0m \u001b[1;32mdef\u001b[0m \u001b[0mShow\u001b[0m\u001b[1;33m(\u001b[0m\u001b[0mimage\u001b[0m\u001b[1;33m)\u001b[0m\u001b[1;33m:\u001b[0m\u001b[1;33m\u001b[0m\u001b[1;33m\u001b[0m\u001b[0m\n\u001b[0;32m      2\u001b[0m     \u001b[0mcv2\u001b[0m\u001b[1;33m.\u001b[0m\u001b[0mnamedWindow\u001b[0m\u001b[1;33m(\u001b[0m\u001b[1;34m'image'\u001b[0m\u001b[1;33m,\u001b[0m \u001b[0mcv2\u001b[0m\u001b[1;33m.\u001b[0m\u001b[0mWINDOW_NORMAL\u001b[0m\u001b[1;33m)\u001b[0m\u001b[1;33m\u001b[0m\u001b[1;33m\u001b[0m\u001b[0m\n\u001b[1;32m----> 3\u001b[1;33m     \u001b[0mcv2\u001b[0m\u001b[1;33m.\u001b[0m\u001b[0mimshow\u001b[0m\u001b[1;33m(\u001b[0m\u001b[1;34m'image'\u001b[0m\u001b[1;33m,\u001b[0m\u001b[0mimage\u001b[0m\u001b[1;33m)\u001b[0m\u001b[1;33m\u001b[0m\u001b[1;33m\u001b[0m\u001b[0m\n\u001b[0m\u001b[0;32m      4\u001b[0m     \u001b[0mcv2\u001b[0m\u001b[1;33m.\u001b[0m\u001b[0mwaitKey\u001b[0m\u001b[1;33m(\u001b[0m\u001b[1;36m0\u001b[0m\u001b[1;33m)\u001b[0m\u001b[1;33m\u001b[0m\u001b[1;33m\u001b[0m\u001b[0m\n\u001b[0;32m      5\u001b[0m     \u001b[0mcv2\u001b[0m\u001b[1;33m.\u001b[0m\u001b[0mdestroyAllWindows\u001b[0m\u001b[1;33m(\u001b[0m\u001b[1;33m)\u001b[0m\u001b[1;33m\u001b[0m\u001b[1;33m\u001b[0m\u001b[0m\n",
      "\u001b[1;31merror\u001b[0m: OpenCV(3.4.2) C:\\projects\\opencv-python\\opencv\\modules\\highgui\\src\\window.cpp:356: error: (-215:Assertion failed) size.width>0 && size.height>0 in function 'cv::imshow'\n"
     ]
    }
   ],
   "source": [
    "img = cv2.imread('Ones/1.jpg',0)\n",
    "img2 = cv2.copyMakeBorder(image,10,10,90,90,cv2.BORDER_CONSTANT,value=255)\n",
    "cv2.resize(img2,(28,28))\n",
    "Show(img)"
   ]
  },
  {
   "cell_type": "code",
   "execution_count": 11,
   "metadata": {},
   "outputs": [
    {
     "data": {
      "text/plain": [
       "(48, 208)"
      ]
     },
     "execution_count": 11,
     "metadata": {},
     "output_type": "execute_result"
    }
   ],
   "source": []
  },
  {
   "cell_type": "code",
   "execution_count": null,
   "metadata": {},
   "outputs": [],
   "source": []
  },
  {
   "cell_type": "code",
   "execution_count": null,
   "metadata": {},
   "outputs": [],
   "source": []
  },
  {
   "cell_type": "code",
   "execution_count": null,
   "metadata": {},
   "outputs": [],
   "source": []
  },
  {
   "cell_type": "code",
   "execution_count": null,
   "metadata": {},
   "outputs": [],
   "source": []
  },
  {
   "cell_type": "code",
   "execution_count": null,
   "metadata": {},
   "outputs": [],
   "source": []
  }
 ],
 "metadata": {
  "kernelspec": {
   "display_name": "Python 3",
   "language": "python",
   "name": "python3"
  },
  "language_info": {
   "codemirror_mode": {
    "name": "ipython",
    "version": 3
   },
   "file_extension": ".py",
   "mimetype": "text/x-python",
   "name": "python",
   "nbconvert_exporter": "python",
   "pygments_lexer": "ipython3",
   "version": "3.6.8"
  }
 },
 "nbformat": 4,
 "nbformat_minor": 2
}
